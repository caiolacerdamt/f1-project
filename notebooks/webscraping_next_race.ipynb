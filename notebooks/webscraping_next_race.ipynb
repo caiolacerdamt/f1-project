{
  "cells": [
    {
      "cell_type": "code",
      "execution_count": 58,
      "metadata": {},
      "outputs": [],
      "source": [
        "import requests as rq\n",
        "from bs4 import BeautifulSoup as bs\n",
        "from selenium import webdriver\n",
        "from selenium.webdriver.chrome.service import Service\n",
        "from selenium.webdriver.chrome.options import Options\n",
        "from webdriver_manager.chrome import ChromeDriverManager\n",
        "from fastf1 import get_events_remaining\n",
        "import pandas as pd"
      ]
    },
    {
      "cell_type": "code",
      "execution_count": 59,
      "metadata": {},
      "outputs": [],
      "source": [
        "def initialize_chrome_driver():\n",
        "    chrome_options = Options()\n",
        "    chrome_options.add_argument(\"--headless\")\n",
        "    driver = webdriver.Chrome(service=Service(ChromeDriverManager().install()), options=chrome_options)\n",
        "    return driver"
      ]
    },
    {
      "cell_type": "code",
      "execution_count": 60,
      "metadata": {},
      "outputs": [],
      "source": [
        "def get_next_race_content():\n",
        "    driver = initialize_chrome_driver()\n",
        "    url = \"https://www.formula1.com/en/racing/2024\"\n",
        "    driver.get(url)\n",
        "    html = driver.page_source\n",
        "    soup = bs(html, 'html.parser')\n",
        "    content_divs = soup.find_all('div', attrs={'class': 'f1-container'})\n",
        "    return content_divs    "
      ]
    },
    {
      "cell_type": "code",
      "execution_count": 61,
      "metadata": {},
      "outputs": [],
      "source": [
        "def get_specific_div_content():\n",
        "    content_div = get_next_race_content()\n",
        "    country_event = get_events_remaining().iloc[0].Country\n",
        "    for div in content_div:\n",
        "        if div.find('fieldset') and country_event in div.text:\n",
        "            event_content = div\n",
        "            break\n",
        "    return event_content"
      ]
    },
    {
      "cell_type": "code",
      "execution_count": 62,
      "metadata": {},
      "outputs": [],
      "source": [
        "def get_date_events():\n",
        "    event_content = get_specific_div_content()\n",
        "    paragraphs = event_content.find_all('p', class_='f1-text')\n",
        "    titles = event_content.find_all('p', class_='f1-heading')\n",
        "    event_dates = []\n",
        "    event_titles = []\n",
        "    for p in paragraphs:\n",
        "        if 'font-normal' in p.get('class', []) and 'uppercase' in p.get('class', []):\n",
        "            event_dates.append(p.get_text())\n",
        "\n",
        "    for p in titles:\n",
        "        if 'uppercase' in p.get('class', []):\n",
        "            event_titles.append(p.get_text())\n",
        "    return event_dates, event_titles\n"
      ]
    },
    {
      "cell_type": "code",
      "execution_count": 63,
      "metadata": {},
      "outputs": [],
      "source": [
        "def create_event_dataframe():\n",
        "    dates, titles = get_date_events()\n",
        "    event_data = []\n",
        "    \n",
        "    for i in range(len(titles)):\n",
        "        event_data.append({\n",
        "            'Evento': titles[i],\n",
        "            'Dia': dates[i * 2],\n",
        "            'Horário': dates[i * 2 + 1]\n",
        "        })\n",
        "\n",
        "    df = pd.DataFrame(event_data)\n",
        "\n",
        "    return df"
      ]
    },
    {
      "cell_type": "code",
      "execution_count": 64,
      "metadata": {},
      "outputs": [
        {
          "data": {
            "text/html": [
              "<div>\n",
              "<style scoped>\n",
              "    .dataframe tbody tr th:only-of-type {\n",
              "        vertical-align: middle;\n",
              "    }\n",
              "\n",
              "    .dataframe tbody tr th {\n",
              "        vertical-align: top;\n",
              "    }\n",
              "\n",
              "    .dataframe thead th {\n",
              "        text-align: right;\n",
              "    }\n",
              "</style>\n",
              "<table border=\"1\" class=\"dataframe\">\n",
              "  <thead>\n",
              "    <tr style=\"text-align: right;\">\n",
              "      <th></th>\n",
              "      <th>Evento</th>\n",
              "      <th>Dia</th>\n",
              "      <th>Horário</th>\n",
              "    </tr>\n",
              "  </thead>\n",
              "  <tbody>\n",
              "    <tr>\n",
              "      <th>0</th>\n",
              "      <td>Practice 1</td>\n",
              "      <td>Fri</td>\n",
              "      <td>12:30 - 13:30</td>\n",
              "    </tr>\n",
              "    <tr>\n",
              "      <th>1</th>\n",
              "      <td>Practice 2</td>\n",
              "      <td>Fri</td>\n",
              "      <td>16:00 - 17:00</td>\n",
              "    </tr>\n",
              "    <tr>\n",
              "      <th>2</th>\n",
              "      <td>Practice 3</td>\n",
              "      <td>Sat</td>\n",
              "      <td>11:30 - 12:30</td>\n",
              "    </tr>\n",
              "    <tr>\n",
              "      <th>3</th>\n",
              "      <td>Qualifying</td>\n",
              "      <td>Sat</td>\n",
              "      <td>15:00 - 16:00</td>\n",
              "    </tr>\n",
              "    <tr>\n",
              "      <th>4</th>\n",
              "      <td>Race</td>\n",
              "      <td>Sun</td>\n",
              "      <td>15:00</td>\n",
              "    </tr>\n",
              "  </tbody>\n",
              "</table>\n",
              "</div>"
            ],
            "text/plain": [
              "       Evento  Dia        Horário\n",
              "0  Practice 1  Fri  12:30 - 13:30\n",
              "1  Practice 2  Fri  16:00 - 17:00\n",
              "2  Practice 3  Sat  11:30 - 12:30\n",
              "3  Qualifying  Sat  15:00 - 16:00\n",
              "4        Race  Sun          15:00"
            ]
          },
          "execution_count": 64,
          "metadata": {},
          "output_type": "execute_result"
        }
      ],
      "source": [
        "create_event_dataframe()"
      ]
    },
    {
      "cell_type": "code",
      "execution_count": 21,
      "metadata": {},
      "outputs": [
        {
          "data": {
            "image/png": "[encoded data removed]",
            "text/plain": [
              "<PIL.PngImagePlugin.PngImageFile image mode=P size=1000x563>"
            ]
          },
          "metadata": {},
          "output_type": "display_data"
        }
      ],
      "source": [
        "from io import BytesIO\n",
        "from PIL import Image\n",
        "from IPython.display import display\n",
        "\n",
        "img_tag = event_content.find('img', alt=country_event)\n",
        "img_url = img_tag['src']\n",
        "response = rq.get(img_url)\n",
        "img = Image.open(BytesIO(response.content))\n",
        "display(img)"
      ]
    }
  ],
  "metadata": {
    "kernelspec": {
      "display_name": "Python 3",
      "language": "python",
      "name": "python3"
    },
    "language_info": {
      "codemirror_mode": {
        "name": "ipython",
        "version": 3
      },
      "file_extension": ".py",
      "mimetype": "text/x-python",
      "name": "python",
      "nbconvert_exporter": "python",
      "pygments_lexer": "ipython3",
      "version": "3.11.5"
    }
  },
  "nbformat": 4,
  "nbformat_minor": 0
}
