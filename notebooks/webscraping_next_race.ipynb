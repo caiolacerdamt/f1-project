{
  "cells": [
    {
      "cell_type": "code",
      "execution_count": 194,
      "metadata": {},
      "outputs": [],
      "source": [
        "import requests as rq\n",
        "from bs4 import BeautifulSoup as bs\n",
        "from selenium import webdriver\n",
        "from selenium.webdriver.chrome.service import Service\n",
        "from selenium.webdriver.chrome.options import Options\n",
        "from webdriver_manager.chrome import ChromeDriverManager"
      ]
    },
    {
      "cell_type": "code",
      "execution_count": 169,
      "metadata": {},
      "outputs": [],
      "source": [
        "chrome_options = Options()\n",
        "chrome_options.add_argument(\"--headless\")\n",
        "\n",
        "driver = webdriver.Chrome(service=Service(ChromeDriverManager().install()), options=chrome_options)\n",
        "\n",
        "url = \"https://www.formula1.com/en/racing/2024\"\n",
        "driver.get(url)\n",
        "\n",
        "html = driver.page_source\n",
        "soup = bs(html, 'html.parser')\n",
        "divs = soup.find_all('div', attrs={'class': 'f1-container'})"
      ]
    },
    {
      "cell_type": "code",
      "execution_count": 171,
      "metadata": {},
      "outputs": [],
      "source": [
        "for div in divs:\n",
        "    if div.find('fieldset') and 'Netherlands' in div.text:\n",
        "        netherlands_event = div"
      ]
    },
    {
      "cell_type": "code",
      "execution_count": 176,
      "metadata": {},
      "outputs": [],
      "source": [
        "paragraphs = netherlands_event.find_all('p', class_='f1-text')"
      ]
    },
    {
      "cell_type": "code",
      "execution_count": 184,
      "metadata": {},
      "outputs": [],
      "source": [
        "event_date = []\n",
        "for p in paragraphs:\n",
        "    if 'font-normal' in p.get('class', []) and 'uppercase' in p.get('class', []):\n",
        "        event_date.append(p.get_text())"
      ]
    },
    {
      "cell_type": "code",
      "execution_count": 193,
      "metadata": {},
      "outputs": [
        {
          "data": {
            "text/plain": [
              "['Fri',\n",
              " '12:30 - 13:30',\n",
              " 'Fri',\n",
              " '16:00 - 17:00',\n",
              " 'Sat',\n",
              " '11:30 - 12:30',\n",
              " 'Sat',\n",
              " '15:00 - 16:00',\n",
              " 'Sun',\n",
              " '15:00']"
            ]
          },
          "execution_count": 193,
          "metadata": {},
          "output_type": "execute_result"
        }
      ],
      "source": [
        "event_date"
      ]
    },
    {
      "cell_type": "code",
      "execution_count": 185,
      "metadata": {},
      "outputs": [],
      "source": [
        "titles = netherlands_event.find_all('p', class_='f1-heading')"
      ]
    },
    {
      "cell_type": "code",
      "execution_count": 191,
      "metadata": {},
      "outputs": [],
      "source": [
        "event_title = []\n",
        "for p in titles:\n",
        "    if 'uppercase' in p.get('class', []):\n",
        "        event_title.append(p.get_text())"
      ]
    },
    {
      "cell_type": "code",
      "execution_count": 192,
      "metadata": {},
      "outputs": [
        {
          "data": {
            "text/plain": [
              "['Practice 1', 'Practice 2', 'Practice 3', 'Qualifying', 'Race']"
            ]
          },
          "execution_count": 192,
          "metadata": {},
          "output_type": "execute_result"
        }
      ],
      "source": [
        "event_title"
      ]
    },
    {
      "cell_type": "code",
      "execution_count": 195,
      "metadata": {},
      "outputs": [
        {
          "data": {
            "image/png": "[encoded data removed]",
            "text/plain": [
              "<PIL.PngImagePlugin.PngImageFile image mode=P size=1000x563>"
            ]
          },
          "metadata": {},
          "output_type": "display_data"
        }
      ],
      "source": [
        "from io import BytesIO\n",
        "from PIL import Image\n",
        "from IPython.display import display\n",
        "\n",
        "img_tag = netherlands_event.find('img', alt='Netherlands')\n",
        "img_url = img_tag['src']\n",
        "response = rq.get(img_url)\n",
        "img = Image.open(BytesIO(response.content))\n",
        "display(img)"
      ]
    }
  ],
  "metadata": {
    "kernelspec": {
      "display_name": "Python 3",
      "language": "python",
      "name": "python3"
    },
    "language_info": {
      "codemirror_mode": {
        "name": "ipython",
        "version": 3
      },
      "file_extension": ".py",
      "mimetype": "text/x-python",
      "name": "python",
      "nbconvert_exporter": "python",
      "pygments_lexer": "ipython3",
      "version": "3.11.5"
    }
  },
  "nbformat": 4,
  "nbformat_minor": 0
}
